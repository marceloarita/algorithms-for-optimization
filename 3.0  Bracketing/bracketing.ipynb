{
 "cells": [
  {
   "cell_type": "code",
   "execution_count": 1,
   "metadata": {},
   "outputs": [],
   "source": [
    "from typing import Callable\n",
    "import numpy as np"
   ]
  },
  {
   "cell_type": "code",
   "execution_count": 20,
   "metadata": {},
   "outputs": [],
   "source": [
    "def objective(x):\n",
    "    return (x-3)**2\n",
    "\n",
    "def objective2(x):\n",
    "    y = -x**4 + 4*x**3 + 30*x**2 - 50*x + 200\n",
    "    return y"
   ]
  },
  {
   "attachments": {},
   "cell_type": "markdown",
   "metadata": {},
   "source": [
    "## 1.0 Funções de bracketing "
   ]
  },
  {
   "attachments": {},
   "cell_type": "markdown",
   "metadata": {},
   "source": [
    "### 1.1 Bracket Minimum"
   ]
  },
  {
   "cell_type": "code",
   "execution_count": 3,
   "metadata": {},
   "outputs": [
    {
     "name": "stdout",
     "output_type": "stream",
     "text": [
      "Método: bracket_minium - O valor mínimo da função f = (x-3)**2 está no intervalo 2.51 a 4.05\n"
     ]
    }
   ],
   "source": [
    "def bracket_minimum(f: Callable, x=0, s=1e-3, k=2.0):\n",
    "    \"\"\"\n",
    "    \n",
    "    Args:\n",
    "        - f (Callable): função objetiva\n",
    "        - x (float): ponto inicial de partida\n",
    "        - s (float): hiperparâmetro de avanço (valor padrão: 1e-3)\n",
    "        - k (float): hiperparâmetro multiplicador do avanço (valor padrão: 2)\n",
    "    Returns:\n",
    "        - tuple (float, float): tupla com os pontos da extremidades\n",
    "    \"\"\"\n",
    "    \n",
    "    a, y_a = x, f(x)                        # ponto a: x e f(x)\n",
    "    b, y_b = a+s, f(a+s)                    # ponto b: x+s e f(x+s)\n",
    "    \n",
    "    # se f(x+s) > f(x), então inverte-se os pontos e valores\n",
    "    if y_b > y_a:\n",
    "        a, b = b, a\n",
    "        y_a, y_b = y_b, y_a\n",
    "        s = -s    # inverte o sinal\n",
    "    # loop para \n",
    "    while True: \n",
    "        c, y_c = b+s, f(b+s)\n",
    "        if y_c > y_b:\n",
    "                return (a, c) if a < c else (c, a)\n",
    "        a, y_a, b, y_a = b, y_b, c, y_c\n",
    "        s*=k\n",
    "\n",
    "# Testa função\n",
    "f = objective\n",
    "x1, x2 = bracket_minimum(f, x=2)\n",
    "print(f'Método: bracket_minium - O valor mínimo da função f = (x-3)**2 está no intervalo {x1:.2f} a {x2:.2f}')"
   ]
  },
  {
   "attachments": {},
   "cell_type": "markdown",
   "metadata": {},
   "source": [
    "### 1.2 Fibonacci Search"
   ]
  },
  {
   "cell_type": "code",
   "execution_count": 4,
   "metadata": {},
   "outputs": [
    {
     "name": "stdout",
     "output_type": "stream",
     "text": [
      "Método: fibonacci_search - O valor mínimo da função f = (x-3)**2 está no intervalo 2.92 a 3.06\n"
     ]
    }
   ],
   "source": [
    "def fibonacci_search(f: Callable, a: float, b: float, n: int, e=1e-2):\n",
    "    \"\"\"\n",
    "    Executa a busca Fibonacci para encontrar um intervalo onde um mínimo (ou máximo) de uma função unimodal pode estar \n",
    "    localizado.\n",
    "\n",
    "    Args:\n",
    "       - f (Callable): A função unimodal a ser otimizada.\n",
    "       - a (float): O limite inferior do intervalo inicial de busca.\n",
    "       - b (float): O limite superior do intervalo inicial de busca.\n",
    "       - n (int): O número de iterações a serem realizadas na busca.\n",
    "       - e (float, optional): A precisão desejada para a busca. O valor padrão é 1e-2.\n",
    "\n",
    "    Returns:\n",
    "        - Tuple[float, float]: Uma tupla contendo os limites inferior e superior do intervalo onde o mínimo (ou máximo) \n",
    "        está localizado.\n",
    "    \"\"\"\n",
    "    \n",
    "    s = (1-np.sqrt(5))/(1+np.sqrt(5))\n",
    "    phi = (1+np.sqrt(5))/2\n",
    "    rho = 1/(phi*(1-s**(n+1))/(1-s**n))\n",
    "    d = rho*b + (1-rho)*a\n",
    "    y_d = f(d)\n",
    "    for i in range(n-1):\n",
    "        if i == n - 1:\n",
    "            c = e*a + (1-e)*d\n",
    "        else: \n",
    "            c = rho*a + (1-rho)*b\n",
    "        y_c = f(c)\n",
    "        if y_c < y_d:\n",
    "            b, d, y_d = d, c, y_c\n",
    "        else:\n",
    "            a, b = b, c\n",
    "        rho = 1/(phi*(1-s**(n-i+1))/(1-s**(n-i)))\n",
    "    return (a, b) if (a < b) else (b, a)\n",
    "\n",
    "# Testa função\n",
    "f = objective\n",
    "x1, x2 = fibonacci_search(f, a=0, b=10, n=10)\n",
    "print(f'Método: fibonacci_search - O valor mínimo da função f = (x-3)**2 está no intervalo {x1:.2f} a {x2:.2f}')"
   ]
  },
  {
   "attachments": {},
   "cell_type": "markdown",
   "metadata": {},
   "source": [
    "### 1.3 Golden Section Search"
   ]
  },
  {
   "cell_type": "code",
   "execution_count": 6,
   "metadata": {},
   "outputs": [
    {
     "name": "stdout",
     "output_type": "stream",
     "text": [
      "Método: golden_section_search - O valor mínimo da função f = (x-3)**2 está no intervalo 2.92 a 3.05\n"
     ]
    }
   ],
   "source": [
    "def golden_section_search(f, a: float, b: float, n: int):\n",
    "    phi = (1+np.sqrt(5))/2\n",
    "    rho = phi - 1\n",
    "    d = rho*b + (1-rho)*a\n",
    "    y_d = f(d)\n",
    "    for _ in range(n-1):\n",
    "        c = rho*a + (1-rho)*b\n",
    "        y_c = f(c)\n",
    "        if y_c < y_d:\n",
    "            b, d, y_d = d, c, y_c\n",
    "        else:\n",
    "            a, b = b, c\n",
    "    return (a, b) if (a < b) else (b, a)\n",
    "\n",
    "# Testa função\n",
    "f = objective\n",
    "x1, x2 = golden_section_search(f, a=0, b=10, n=10)\n",
    "print(f'Método: golden_section_search - O valor mínimo da função f = (x-3)**2 está no intervalo {x1:.2f} a {x2:.2f}')"
   ]
  },
  {
   "attachments": {},
   "cell_type": "markdown",
   "metadata": {},
   "source": [
    "### 1.3 Quadratic Fit Search"
   ]
  },
  {
   "cell_type": "code",
   "execution_count": 10,
   "metadata": {},
   "outputs": [],
   "source": [
    "def quadratic_fit_search(f, a: float, b: float, c: float, n: int):\n",
    "    ya, yb, yc = f(a), f(b), f(c)\n",
    "    for _ in range(1,n-3):\n",
    "        x = 0.5*(ya*(b**2-c**2) + yb*(c**2-a**2) + yc*(a**2-b**2))/(ya*(b-c) + yb*(c-a) + yc*(a-b))\n",
    "        yx = f(x)\n",
    "        if x > b:\n",
    "            if yx > yb:\n",
    "                c, yc = x, yx\n",
    "            else:\n",
    "                a, ya, b, yb = b, yb, x, yx\n",
    "        elif x < b:\n",
    "            if yx > yb:\n",
    "                a, ya = x, yx\n",
    "            else:\n",
    "                c, yc, b, yb = b, yb, x, yx\n",
    "    return (a, b, c)    "
   ]
  },
  {
   "cell_type": "code",
   "execution_count": 23,
   "metadata": {},
   "outputs": [
    {
     "name": "stdout",
     "output_type": "stream",
     "text": [
      "Método: quadratic_fit_search - O valor mínimo da função f = -x**4 + 4*x**3 + 30*x**2 - 50*x + 200 é próximo de 0.75\n"
     ]
    }
   ],
   "source": [
    "f = objective2\n",
    "a, b, c = quadratic_fit_search(f, a=-5, b=2, c=10, n=10)\n",
    "print(f'Método: quadratic_fit_search - O valor mínimo da função f = -x**4 + 4*x**3 + 30*x**2 - 50*x + 200 é próximo de {b:.2f}')"
   ]
  }
 ],
 "metadata": {
  "kernelspec": {
   "display_name": "Python 3",
   "language": "python",
   "name": "python3"
  },
  "language_info": {
   "codemirror_mode": {
    "name": "ipython",
    "version": 3
   },
   "file_extension": ".py",
   "mimetype": "text/x-python",
   "name": "python",
   "nbconvert_exporter": "python",
   "pygments_lexer": "ipython3",
   "version": "3.10.7"
  },
  "orig_nbformat": 4
 },
 "nbformat": 4,
 "nbformat_minor": 2
}
