{
 "cells": [
  {
   "cell_type": "code",
   "execution_count": 9,
   "metadata": {},
   "outputs": [],
   "source": [
    "import numpy as np\n",
    "from typing import Callable\n",
    "import math\n"
   ]
  },
  {
   "cell_type": "code",
   "execution_count": 18,
   "metadata": {},
   "outputs": [],
   "source": [
    "def f(x):\n",
    "    return (x-3)**2\n",
    "\n",
    "def f2(x):\n",
    "    y = -x**4 + 4*x**3 + 30*x**2 - 50*x + 200\n",
    "    return y\n",
    "\n",
    "def f3(x):\n",
    "    y = math.sin(x[0]*x[1]*x[2]) + math.exp(x[1]+x[2]) - x[2]\n",
    "    return y"
   ]
  },
  {
   "cell_type": "code",
   "execution_count": 11,
   "metadata": {},
   "outputs": [],
   "source": [
    "def d_f(x):\n",
    "    return 2*(x-3)\n",
    "\n",
    "def d_f2(x):\n",
    "    return -4*x**3 + 12*x**2 + 60*x - 50"
   ]
  },
  {
   "cell_type": "code",
   "execution_count": 44,
   "metadata": {},
   "outputs": [],
   "source": [
    "def bisection(df, a: float, b: float, e=1e-3):\n",
    "    \n",
    "    # a,b = a,b if a >b else b, a\n",
    "\n",
    "    ya, yb = df(a), df(b)\n",
    "    if ya == 0:\n",
    "        b = a\n",
    "    if yb == 0:\n",
    "        a = b\n",
    "    \n",
    "    while b -  a > e:\n",
    "        x = (a+b)/2\n",
    "        y = df(x)\n",
    "        if y == 0:\n",
    "            a, b = x, x\n",
    "        elif math.copysign(1,y) == math.copysign(1, ya):\n",
    "            a = x\n",
    "        else:\n",
    "            b = x\n",
    "    return (a, b)\n",
    " "
   ]
  },
  {
   "cell_type": "code",
   "execution_count": 71,
   "metadata": {},
   "outputs": [],
   "source": [
    "def bracket_minimum(f: Callable, x, s=1e-3, k=2.0):\n",
    "    \"\"\"\n",
    "    \n",
    "    Args:\n",
    "        - f (Callable): função objetiva\n",
    "        - x (float): ponto inicial de partida\n",
    "        - s (float): hiperparâmetro de avanço (valor padrão: 1e-3)\n",
    "        - k (float): hiperparâmetro multiplicador do avanço (valor padrão: 2)\n",
    "    Returns:\n",
    "        - tuple (float, float): tupla com os pontos da extremidades\n",
    "    \"\"\"\n",
    "    # print(x)\n",
    "    a, y_a = x, f(x)                        # ponto a: x e f(x)\n",
    "    b, y_b = a+s, f(a+s)                    # ponto b: x+s e f(x+s)\n",
    "    \n",
    "    # se f(x+s) > f(x), então inverte-se os pontos e valores\n",
    "    if y_b > y_a:\n",
    "        a, b = b, a\n",
    "        y_a, y_b = y_b, y_a\n",
    "        s = -s    # inverte o sinal\n",
    "    # loop para \n",
    "    while True: \n",
    "        c, y_c = b+s, f(b+s)\n",
    "        if y_c > y_b:\n",
    "                return a, c\n",
    "                # return (a, c) if a < c else (c, a)\n",
    "        a, y_a, b, y_a = b, y_b, c, y_c\n"
   ]
  },
  {
   "cell_type": "code",
   "execution_count": 72,
   "metadata": {},
   "outputs": [],
   "source": [
    "def line_search(f, x, d):\n",
    "    objective = lambda alpha: f(x+alpha*d)\n",
    "    a, b = bracket_minimum(f=f)\n",
    "    alpha = bisection(df=objective, a=a, b=b)\n",
    "    return x + alpha*d\n"
   ]
  },
  {
   "cell_type": "code",
   "execution_count": 83,
   "metadata": {},
   "outputs": [],
   "source": [
    "funcao = f3\n",
    "# line_search(f=f, x=[1,2,3], d=[0, -1, -1])\n",
    "x=np.array([1,2,3])\n",
    "d=np.array([0, -1, -1])\n",
    "objective = lambda alpha: funcao(x=x+alpha*d)\n",
    "# a, b = bracket_minimum(f=funcao, x=x)\n",
    "\n",
    "alpha1,alpha2 = bisection(df=objective, a=-2, b=4)"
   ]
  },
  {
   "cell_type": "code",
   "execution_count": null,
   "metadata": {},
   "outputs": [],
   "source": []
  }
 ],
 "metadata": {
  "kernelspec": {
   "display_name": "Python 3",
   "language": "python",
   "name": "python3"
  },
  "language_info": {
   "codemirror_mode": {
    "name": "ipython",
    "version": 3
   },
   "file_extension": ".py",
   "mimetype": "text/x-python",
   "name": "python",
   "nbconvert_exporter": "python",
   "pygments_lexer": "ipython3",
   "version": "3.10.7"
  },
  "orig_nbformat": 4
 },
 "nbformat": 4,
 "nbformat_minor": 2
}
