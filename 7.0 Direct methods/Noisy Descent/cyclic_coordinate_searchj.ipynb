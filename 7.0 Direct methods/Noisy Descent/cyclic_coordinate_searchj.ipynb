{
 "cells": [
  {
   "cell_type": "markdown",
   "metadata": {},
   "source": [
    "## 0. Bibliotecas"
   ]
  },
  {
   "cell_type": "code",
   "execution_count": 8,
   "metadata": {},
   "outputs": [],
   "source": [
    "import numpy as np\n",
    "from typing import Callable\n",
    "from scipy.optimize import line_search    "
   ]
  },
  {
   "attachments": {},
   "cell_type": "markdown",
   "metadata": {},
   "source": [
    "## 1. Funções auxiliares"
   ]
  },
  {
   "attachments": {},
   "cell_type": "markdown",
   "metadata": {},
   "source": [
    "Função objetiva"
   ]
  },
  {
   "cell_type": "code",
   "execution_count": 9,
   "metadata": {},
   "outputs": [],
   "source": [
    "def objective(x):\n",
    "    return (5-x)**2\n",
    "\n",
    "def gradient(x):\n",
    "    return 2*(5-x)"
   ]
  },
  {
   "cell_type": "code",
   "execution_count": 26,
   "metadata": {},
   "outputs": [],
   "source": [
    "def basis(i, n):\n",
    "    return np.array([1.0 if k == i else 0.0 for k in range(1, n+1)])"
   ]
  },
  {
   "cell_type": "code",
   "execution_count": 27,
   "metadata": {},
   "outputs": [],
   "source": [
    "def cyclic_coordinate_descent(f: Callable, df: Callable, x, e):\n",
    "    delta, n = np.inf, len(x)\n",
    "    while abs(delta) > e:\n",
    "        xk = x.copy()\n",
    "        for i in range(n):\n",
    "            d = basis(i, n)\n",
    "            x = line_search(f, df, xk, d)\n",
    "        delta = np.linalg.norm(x - xk)\n",
    "    return x"
   ]
  },
  {
   "cell_type": "code",
   "execution_count": 42,
   "metadata": {},
   "outputs": [
    {
     "data": {
      "text/plain": [
       "(None, 13, 1, None, array([4.]), None)"
      ]
     },
     "execution_count": 42,
     "metadata": {},
     "output_type": "execute_result"
    }
   ],
   "source": [
    "result"
   ]
  },
  {
   "cell_type": "code",
   "execution_count": 43,
   "metadata": {},
   "outputs": [
    {
     "name": "stderr",
     "output_type": "stream",
     "text": [
      "/Library/Frameworks/Python.framework/Versions/3.10/lib/python3.10/site-packages/scipy/optimize/_linesearch.py:314: LineSearchWarning: The line search algorithm did not converge\n",
      "  warn('The line search algorithm did not converge', LineSearchWarning)\n"
     ]
    },
    {
     "ename": "TypeError",
     "evalue": "unsupported operand type(s) for *: 'NoneType' and 'float'",
     "output_type": "error",
     "traceback": [
      "\u001b[0;31m---------------------------------------------------------------------------\u001b[0m",
      "\u001b[0;31mTypeError\u001b[0m                                 Traceback (most recent call last)",
      "Cell \u001b[0;32mIn[43], line 12\u001b[0m\n\u001b[1;32m     10\u001b[0m     d \u001b[39m=\u001b[39m basis(i, n)\n\u001b[1;32m     11\u001b[0m     result \u001b[39m=\u001b[39m line_search(f\u001b[39m=\u001b[39mf, myfprime\u001b[39m=\u001b[39mdf, xk\u001b[39m=\u001b[39mxk, pk\u001b[39m=\u001b[39md)\n\u001b[0;32m---> 12\u001b[0m     x \u001b[39m=\u001b[39m x\u001b[39m+\u001b[39mresult[\u001b[39m0\u001b[39;49m]\u001b[39m*\u001b[39;49md\n\u001b[1;32m     13\u001b[0m delta \u001b[39m=\u001b[39m np\u001b[39m.\u001b[39mlinalg\u001b[39m.\u001b[39mnorm(x \u001b[39m-\u001b[39m xk)\n",
      "\u001b[0;31mTypeError\u001b[0m: unsupported operand type(s) for *: 'NoneType' and 'float'"
     ]
    }
   ],
   "source": [
    "f = objective\n",
    "df = gradient\n",
    "x=np.array([3])\n",
    "\n",
    "e=1e-2\n",
    "delta, n = np.inf, len(x)\n",
    "while abs(delta) > e:\n",
    "    xk = x.copy()\n",
    "    for i in range(1, n+1):\n",
    "        d = basis(i, n)\n",
    "        result = line_search(f=f, myfprime=df, xk=xk, pk=d)\n",
    "        x = x+result[0]*d\n",
    "    delta = np.linalg.norm(x - xk)\n"
   ]
  },
  {
   "cell_type": "code",
   "execution_count": 15,
   "metadata": {},
   "outputs": [
    {
     "ename": "TypeError",
     "evalue": "can't multiply sequence by non-int of type 'float'",
     "output_type": "error",
     "traceback": [
      "\u001b[0;31m---------------------------------------------------------------------------\u001b[0m",
      "\u001b[0;31mTypeError\u001b[0m                                 Traceback (most recent call last)",
      "Cell \u001b[0;32mIn[15], line 1\u001b[0m\n\u001b[0;32m----> 1\u001b[0m cyclic_coordinate_descent(f\u001b[39m=\u001b[39;49mobjective, df\u001b[39m=\u001b[39;49mgradient, x\u001b[39m=\u001b[39;49mnp\u001b[39m.\u001b[39;49marray([\u001b[39m3\u001b[39;49m]), e\u001b[39m=\u001b[39;49m\u001b[39m1e-2\u001b[39;49m)\n",
      "Cell \u001b[0;32mIn[13], line 7\u001b[0m, in \u001b[0;36mcyclic_coordinate_descent\u001b[0;34m(f, df, x, e)\u001b[0m\n\u001b[1;32m      5\u001b[0m     \u001b[39mfor\u001b[39;00m i \u001b[39min\u001b[39;00m \u001b[39mrange\u001b[39m(n):\n\u001b[1;32m      6\u001b[0m         d \u001b[39m=\u001b[39m basis(i, n)\n\u001b[0;32m----> 7\u001b[0m         x \u001b[39m=\u001b[39m line_search(f, df, xk, d)\n\u001b[1;32m      8\u001b[0m     delta \u001b[39m=\u001b[39m np\u001b[39m.\u001b[39mlinalg\u001b[39m.\u001b[39mnorm(x \u001b[39m-\u001b[39m xk)\n\u001b[1;32m      9\u001b[0m \u001b[39mreturn\u001b[39;00m x\n",
      "File \u001b[0;32m/Library/Frameworks/Python.framework/Versions/3.10/lib/python3.10/site-packages/scipy/optimize/_linesearch.py:309\u001b[0m, in \u001b[0;36mline_search_wolfe2\u001b[0;34m(f, myfprime, xk, pk, gfk, old_fval, old_old_fval, args, c1, c2, amax, extra_condition, maxiter)\u001b[0m\n\u001b[1;32m    306\u001b[0m \u001b[39melse\u001b[39;00m:\n\u001b[1;32m    307\u001b[0m     extra_condition2 \u001b[39m=\u001b[39m \u001b[39mNone\u001b[39;00m\n\u001b[0;32m--> 309\u001b[0m alpha_star, phi_star, old_fval, derphi_star \u001b[39m=\u001b[39m scalar_search_wolfe2(\n\u001b[1;32m    310\u001b[0m         phi, derphi, old_fval, old_old_fval, derphi0, c1, c2, amax,\n\u001b[1;32m    311\u001b[0m         extra_condition2, maxiter\u001b[39m=\u001b[39;49mmaxiter)\n\u001b[1;32m    313\u001b[0m \u001b[39mif\u001b[39;00m derphi_star \u001b[39mis\u001b[39;00m \u001b[39mNone\u001b[39;00m:\n\u001b[1;32m    314\u001b[0m     warn(\u001b[39m'\u001b[39m\u001b[39mThe line search algorithm did not converge\u001b[39m\u001b[39m'\u001b[39m, LineSearchWarning)\n",
      "File \u001b[0;32m/Library/Frameworks/Python.framework/Versions/3.10/lib/python3.10/site-packages/scipy/optimize/_linesearch.py:383\u001b[0m, in \u001b[0;36mscalar_search_wolfe2\u001b[0;34m(phi, derphi, phi0, old_phi0, derphi0, c1, c2, amax, extra_condition, maxiter)\u001b[0m\n\u001b[1;32m    329\u001b[0m \u001b[39m\u001b[39m\u001b[39m\"\"\"Find alpha that satisfies strong Wolfe conditions.\u001b[39;00m\n\u001b[1;32m    330\u001b[0m \n\u001b[1;32m    331\u001b[0m \u001b[39malpha > 0 is assumed to be a descent direction.\u001b[39;00m\n\u001b[0;32m   (...)\u001b[0m\n\u001b[1;32m    379\u001b[0m \n\u001b[1;32m    380\u001b[0m \u001b[39m\"\"\"\u001b[39;00m\n\u001b[1;32m    382\u001b[0m \u001b[39mif\u001b[39;00m phi0 \u001b[39mis\u001b[39;00m \u001b[39mNone\u001b[39;00m:\n\u001b[0;32m--> 383\u001b[0m     phi0 \u001b[39m=\u001b[39m phi(\u001b[39m0.\u001b[39;49m)\n\u001b[1;32m    385\u001b[0m \u001b[39mif\u001b[39;00m derphi0 \u001b[39mis\u001b[39;00m \u001b[39mNone\u001b[39;00m:\n\u001b[1;32m    386\u001b[0m     derphi0 \u001b[39m=\u001b[39m derphi(\u001b[39m0.\u001b[39m)\n",
      "File \u001b[0;32m/Library/Frameworks/Python.framework/Versions/3.10/lib/python3.10/site-packages/scipy/optimize/_linesearch.py:284\u001b[0m, in \u001b[0;36mline_search_wolfe2.<locals>.phi\u001b[0;34m(alpha)\u001b[0m\n\u001b[1;32m    282\u001b[0m \u001b[39mdef\u001b[39;00m \u001b[39mphi\u001b[39m(alpha):\n\u001b[1;32m    283\u001b[0m     fc[\u001b[39m0\u001b[39m] \u001b[39m+\u001b[39m\u001b[39m=\u001b[39m \u001b[39m1\u001b[39m\n\u001b[0;32m--> 284\u001b[0m     \u001b[39mreturn\u001b[39;00m f(xk \u001b[39m+\u001b[39m alpha \u001b[39m*\u001b[39;49m pk, \u001b[39m*\u001b[39margs)\n",
      "\u001b[0;31mTypeError\u001b[0m: can't multiply sequence by non-int of type 'float'"
     ]
    }
   ],
   "source": [
    "cyclic_coordinate_descent(f=objective, df=gradient, x=np.array([3]), e=1e-2)"
   ]
  }
 ],
 "metadata": {
  "kernelspec": {
   "display_name": "Python 3",
   "language": "python",
   "name": "python3"
  },
  "language_info": {
   "codemirror_mode": {
    "name": "ipython",
    "version": 3
   },
   "file_extension": ".py",
   "mimetype": "text/x-python",
   "name": "python",
   "nbconvert_exporter": "python",
   "pygments_lexer": "ipython3",
   "version": "3.10.7"
  },
  "orig_nbformat": 4
 },
 "nbformat": 4,
 "nbformat_minor": 2
}
